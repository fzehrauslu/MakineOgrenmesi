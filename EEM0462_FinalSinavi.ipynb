{
 "cells": [
  {
   "cell_type": "code",
   "execution_count": null,
   "metadata": {
    "colab": {},
    "colab_type": "code",
    "id": "zzeIIhrgMdBx"
   },
   "outputs": [],
   "source": [
    "from google.colab import drive\n",
    "drive.mount('/content/drive')"
   ]
  },
  {
   "cell_type": "code",
   "execution_count": null,
   "metadata": {
    "colab": {},
    "colab_type": "code",
    "id": "1DlEJM7POaaV"
   },
   "outputs": [],
   "source": [
    "FolderName=\"/content/drive/My Drive/Colab Notebooks/HandGestures/acquisitions/S1/G1\""
   ]
  },
  {
   "cell_type": "code",
   "execution_count": null,
   "metadata": {
    "colab": {},
    "colab_type": "code",
    "id": "G2DGZ217Qmal"
   },
   "outputs": [],
   "source": [
    "import tensorflow as tf\n",
    "from tensorflow.keras.applications import Xception\n",
    "from tensorflow.keras.preprocessing import image\n",
    "from tensorflow.keras.models import Model\n",
    "from tensorflow.keras.layers import Dense, GlobalAveragePooling2D,Dropout\n",
    "from tensorflow.keras.utils import Sequence\n",
    "import pdb"
   ]
  },
  {
   "cell_type": "markdown",
   "metadata": {
    "colab_type": "text",
    "id": "KHmBZrdVfAFQ"
   },
   "source": [
    "Verisetini egitim icin hazirla"
   ]
  },
  {
   "cell_type": "code",
   "execution_count": null,
   "metadata": {
    "colab": {},
    "colab_type": "code",
    "id": "iGq5ZQeQesqG"
   },
   "outputs": [],
   "source": [
    "import os\n",
    "\n",
    "def getPathsForAClass():\n",
    "  # ClassNumber :number\n",
    "  \n",
    "  pathS1=\"/content/drive/My Drive/Colab Notebooks/HandGestures/acquisitions/S1\"\n",
    "  pathS2=\"/content/drive/My Drive/Colab Notebooks/HandGestures/acquisitions/S2\"\n",
    "  pathS3=\"/content/drive/My Drive/Colab Notebooks/HandGestures/acquisitions/S3\"\n",
    "  pathS4=\"/content/drive/My Drive/Colab Notebooks/HandGestures/acquisitions/S4\"\n",
    "\n",
    "\n",
    "  G1={\"train\":[],\"validation\":[],\"test\":[]}\n",
    "  G1[\"train\"]={\"Image\":[],\"label\":[]}\n",
    "  G1[\"validation\"]={\"Image\":[],\"label\":[]}\n",
    "  G1[\"test\"]={\"Image\":[],\"label\":[]}\n",
    "  \n",
    "\n",
    "  for ClassNumber in [1,5]:#range(1,3): # 12\n",
    "    ClassNo=\"G\"+str(ClassNumber)\n",
    "    if ClassNumber==5:\n",
    "      ClassNumber=2\n",
    "\n",
    "    for i in range(1,26):\n",
    "      G1[\"train\"][\"Image\"].append([os.path.join(pathS1,ClassNo,str(i)+\"-color.png\" )])\n",
    "      G1[\"train\"][\"label\"].append(ClassNumber)\n",
    "      \n",
    "      G1[\"train\"][\"Image\"].append([os.path.join(pathS2,ClassNo,str(i)+\"-color.png\" )])\n",
    "      G1[\"train\"][\"label\"].append(ClassNumber)\n",
    "      \n",
    "      G1[\"train\"][\"Image\"].append([os.path.join(pathS3,ClassNo,str(i)+\"-color.png\" )])\n",
    "      G1[\"train\"][\"label\"].append(ClassNumber)\n",
    "\n",
    "      G1[\"train\"][\"Image\"].append([os.path.join(pathS4,ClassNo,str(i)+\"-color.png\" )])\n",
    "      G1[\"train\"][\"label\"].append(ClassNumber)\n",
    "\n",
    "    for i in range(26,28):\n",
    "      G1[\"validation\"][\"Image\"].append([os.path.join(pathS1,\n",
    "                                                     ClassNo,str(i)+\"-color.png\" )])\n",
    "      G1[\"validation\"][\"label\"].append(ClassNumber)\n",
    "      \n",
    "      G1[\"validation\"][\"Image\"].append([os.path.join(pathS2,\n",
    "                                                     ClassNo,str(i)+\"-color.png\" )])\n",
    "      G1[\"validation\"][\"label\"].append(ClassNumber)\n",
    "      \n",
    "      G1[\"validation\"][\"Image\"].append([os.path.join(pathS3,\n",
    "                                                     ClassNo,str(i)+\"-color.png\" )])\n",
    "      G1[\"validation\"][\"label\"].append(ClassNumber)\n",
    "\n",
    "      G1[\"validation\"][\"Image\"].append([os.path.join(pathS4,\n",
    "                                                     ClassNo,str(i)+\"-color.png\" )])\n",
    "      G1[\"validation\"][\"label\"].append(ClassNumber)\n",
    "\n",
    "\n",
    "     \n",
    "\n",
    "    for i in range(28,31):\n",
    "      G1[\"test\"][\"Image\"].append([os.path.join(pathS1,ClassNo,str(i)+\"-color.png\" )])\n",
    "      G1[\"test\"][\"label\"].append(ClassNumber)\n",
    "      \n",
    "      G1[\"test\"][\"Image\"].append([os.path.join(pathS2,ClassNo,str(i)+\"-color.png\" )])\n",
    "      G1[\"test\"][\"label\"].append(ClassNumber)\n",
    "      \n",
    "      G1[\"test\"][\"Image\"].append([os.path.join(pathS3,ClassNo,str(i)+\"-color.png\" )])\n",
    "      G1[\"test\"][\"label\"].append(ClassNumber)\n",
    "\n",
    "      G1[\"test\"][\"Image\"].append([os.path.join(pathS4,ClassNo,str(i)+\"-color.png\" )])\n",
    "      G1[\"test\"][\"label\"].append(ClassNumber)\n",
    "\n",
    "      \n",
    "\n",
    "  return G1\n",
    "\n",
    "partition=getPathsForAClass()\n",
    "\n"
   ]
  },
  {
   "cell_type": "markdown",
   "metadata": {
    "colab_type": "text",
    "id": "LiwX4o9gfTFJ"
   },
   "source": [
    "Dataloader fonksiyonunu yaz (40 puan)"
   ]
  },
  {
   "cell_type": "code",
   "execution_count": null,
   "metadata": {
    "colab": {},
    "colab_type": "code",
    "id": "b7DUbL0cQqqN"
   },
   "outputs": [],
   "source": [
    "## generate dataloader \n",
    "## https://stanford.edu/~shervine/blog/keras-how-to-generate-data-on-the-fly\n",
    "\n",
    "import numpy as np\n",
    "import keras\n",
    "import imageio\n",
    "\n",
    "class DataGenerator(Sequence):\n",
    "    'Generates data for Keras'\n",
    "    def __init__(self, list_IDs, batch_size=32, dim=(32,32,32), n_channels=1,\n",
    "                 n_classes=10, shuffle=True,Training=False):\n",
    "        'Initialization'\n",
    "        self.dim = dim\n",
    "        self.batch_size = batch_size\n",
    "        #self.labels = labels\n",
    "        self.list_IDs = list_IDs\n",
    "        self.n_channels = n_channels\n",
    "        self.n_classes = n_classes\n",
    "        self.shuffle = shuffle\n",
    "        self.on_epoch_end()\n",
    "        self.Training=Training\n",
    "\n",
    "    def __len__(self):\n",
    "        'Denotes the number of batches per epoch'\n",
    "        return int(np.floor(len(self.list_IDs[\"Image\"]) / self.batch_size))\n",
    "\n",
    "    def __getitem__(self, index):\n",
    "        'Generate one batch of data'\n",
    "        # Generate indexes of the batch\n",
    "        indexes = self.indexes[index*self.batch_size:(index+1)*self.batch_size]\n",
    "\n",
    "        list_IDs_temp = [self.list_IDs[\"Image\"][k] for k in indexes]\n",
    "        listLabels=[self.list_IDs[\"label\"][k] for k in indexes]\n",
    "        \n",
    "        \n",
    "\n",
    "        # Generate data\n",
    "        X, y = self.__data_generation(list_IDs_temp,listLabels,self.Training)\n",
    "\n",
    "        return X, y\n",
    "\n",
    "    def on_epoch_end(self):\n",
    "        'Updates indexes after each epoch'\n",
    "        self.indexes = np.arange(len(self.list_IDs[\"Image\"]))\n",
    "        if self.shuffle == True:\n",
    "            np.random.shuffle(self.indexes)\n",
    "\n",
    "    def __data_generation(self, list_IDs_temp,listLabels,Training):\n",
    "        'Generates data containing batch_size samples' \n",
    "        # Initialization\n",
    "        X = np.empty((self.batch_size, *self.dim, self.n_channels))\n",
    "        y = np.empty((self.batch_size), dtype=int)\n",
    "        #print(list_IDs_temp)\n",
    "        # Generate data\n",
    "        for i, ID in enumerate(list_IDs_temp):\n",
    "\n",
    "\n",
    "            im = imageio.imread(ID[0]) # read png file , color image            \n",
    "            X[i,] = im\n",
    "\n",
    "            # Store class number\n",
    "            y[i] = listLabels[i]-1\n",
    "        return X, keras.utils.to_categorical(y, num_classes=self.n_classes)\n"
   ]
  },
  {
   "cell_type": "markdown",
   "metadata": {
    "colab_type": "text",
    "id": "hRZXiP6ofeVV"
   },
   "source": [
    "Dataloader fonksiyonu icin parametreleri ayarla"
   ]
  },
  {
   "cell_type": "code",
   "execution_count": null,
   "metadata": {
    "colab": {},
    "colab_type": "code",
    "id": "iHHqpRiQR8bJ"
   },
   "outputs": [],
   "source": [
    "params = {'dim': (480,640), \n",
    "          'batch_size': 8,\n",
    "          'n_classes': 2, \n",
    "          'n_channels': 3, \n",
    "          'shuffle': True}"
   ]
  },
  {
   "cell_type": "markdown",
   "metadata": {
    "colab_type": "text",
    "id": "y4FiZPKAg-0f"
   },
   "source": [
    "Egitim, validation ve test veri setlerini hazirla"
   ]
  },
  {
   "cell_type": "code",
   "execution_count": null,
   "metadata": {
    "colab": {},
    "colab_type": "code",
    "id": "cXsgWv7EVNec"
   },
   "outputs": [],
   "source": [
    "training_generator = DataGenerator(partition['train'], **params,Training=True)\n",
    "validation_generator = DataGenerator(partition['validation'], **params,Training=False)\n",
    "test_generator = DataGenerator(partition['test'], **params,Training=False)"
   ]
  },
  {
   "cell_type": "markdown",
   "metadata": {
    "colab_type": "text",
    "id": "NmWDbSbxmHBQ"
   },
   "source": []
  },
  {
   "cell_type": "markdown",
   "metadata": {
    "colab_type": "text",
    "id": "nZ8Lb5D6hK9w"
   },
   "source": [
    "Imagenet veriseti ile egitilmis olan Xception modelini ana model olarak kullan. Ve bu modele, Global Average Pooling (2 boyutlu seçmelisiniz),  dropout layer, dense layer (100 tane nörona sahip), ReLU layer, dropout layer, dense layer (2 tane nörona sahip), softmax layer ekleyin"
   ]
  },
  {
   "cell_type": "code",
   "execution_count": null,
   "metadata": {
    "colab": {},
    "colab_type": "code",
    "id": "d0tq0gm5Pqcn"
   },
   "outputs": [],
   "source": [
    "i = tf.keras.layers.Input([None, None, 3], dtype = tf.uint8)\n",
    "x = tf.cast(i, tf.float32)\n",
    "x = tf.keras.applications.mobilenet.preprocess_input(x)\n",
    "\n",
    "# create the base pre-trained model\n",
    "base_model = Xception(weights='imagenet', include_top=False)\n",
    "x = base_model(x)#base_model.output\n",
    "# add a global spatial average pooling layer\n",
    "x = GlobalAveragePooling2D()(x)\n",
    "# add a dropout layer\n",
    "x= Dropout(0.2)(x)\n",
    "# let's add a fully-connected layer\n",
    "x =Dense(100, activation='relu')(x)\n",
    "# add a dropout layer\n",
    "x= Dropout(0.2)(x)\n",
    "# and a dense layer\n",
    "predictions = Dense(2, activation='softmax')(x)\n",
    "\n",
    "# this is the model we will train\n",
    "model =Model(inputs=i, outputs=predictions) \n",
    "\n",
    "\n",
    "\n"
   ]
  },
  {
   "cell_type": "markdown",
   "metadata": {
    "colab_type": "text",
    "id": "nci9s00wgkaN"
   },
   "source": [
    "Eğitim 1 : Bu modeli Adam algoritmasını ve categorical cross entropy hata fonksiyonunu kullanarak, 5 epoch için eğitiniz. Eğitimi sadece yeni eklediğiniz katmanlar için yapınız. (10 puan)"
   ]
  },
  {
   "cell_type": "code",
   "execution_count": null,
   "metadata": {
    "colab": {},
    "colab_type": "code",
    "id": "QtQPsOazaMIn"
   },
   "outputs": [],
   "source": [
    "\n",
    "# set the base model as not trainable\n",
    "for layer in base_model.layers:\n",
    "    layer.trainable = False\n",
    "\n",
    "model.compile(optimizer='Adam', loss='categorical_crossentropy',\n",
    "              metrics=['accuracy'])\n",
    "model.fit(training_generator, epochs=5, validation_data=validation_generator)  \n",
    "\n",
    "# save original model parameters because we need it later \n",
    "#when finetuning it with various optimisation methods\n",
    "tf.keras.models.save_model(\n",
    "    model, \"/content/drive/My Drive/Colab Notebooks/HandGestures/model\", overwrite=True, \n",
    "    include_optimizer=True, save_format=\"tf\")"
   ]
  },
  {
   "cell_type": "markdown",
   "metadata": {
    "colab_type": "text",
    "id": "8rEJsgLohY2j"
   },
   "source": [
    "Test verisi için, precision, recall, F1 score ve accuracy değerlerini hesaplayınız."
   ]
  },
  {
   "cell_type": "code",
   "execution_count": null,
   "metadata": {
    "colab": {},
    "colab_type": "code",
    "id": "hdoffJi3HKQ6"
   },
   "outputs": [],
   "source": [
    "from sklearn.metrics import classification_report\n",
    "prediction = model.predict(test_generator)\n",
    "y_pred_bool = np.argmax(prediction, axis=1)\n",
    "\n",
    "testDataset=[]\n",
    "for i in range(len(test_generator)):\n",
    "  testDataset.append(test_generator[i][1])\n",
    "\n",
    "testDataset=np.reshape(np.array(testDataset),(-1,2))\n",
    "y_true_bool = np.argmax(testDataset, axis=1)\n",
    "print(classification_report(y_true_bool, y_pred_bool))"
   ]
  },
  {
   "cell_type": "markdown",
   "metadata": {
    "colab_type": "text",
    "id": "2a0xWfKLhkfd"
   },
   "source": [
    "Eğitim 2: Xception Modelinin önceden eğitilmiş olan 128. ve sonraki katmanlarını (Not: Python'da indisler 0'dan başladığı için model içinden 127 ve sonrası katmanları seçmelisiniz) ve \"eğitim 1 \" de egittiginiz yeni katmanlarla beraber finetune ediniz. Bu islem için  categorical cross entropy hata fonksiyonunu kullanınız. \n",
    " "
   ]
  },
  {
   "cell_type": "code",
   "execution_count": null,
   "metadata": {
    "colab": {},
    "colab_type": "code",
    "id": "nsm-qxHmxtan"
   },
   "outputs": [],
   "source": [
    "# make the selected late layers of the base model trainable\n",
    "for layer in model.layers[:127]:\n",
    "   layer.trainable = False\n",
    "for layer in model.layers[127:]:\n",
    "   layer.trainable = True\n",
    "\n",
    "# we need to recompile the model for these modifications to take effect\n",
    "\n"
   ]
  },
  {
   "cell_type": "markdown",
   "metadata": {
    "colab_type": "text",
    "id": "AaNXNxX9iwC4"
   },
   "source": [
    "Adam algoritmasi ile finetune et ve performans skorlarini hesapla (10 puan)"
   ]
  },
  {
   "cell_type": "code",
   "execution_count": null,
   "metadata": {
    "colab": {},
    "colab_type": "code",
    "id": "RAJblmDD_doT"
   },
   "outputs": [],
   "source": [
    "from tensorflow.keras.optimizers import SGD\n",
    "model.compile(optimizer=\"Adam\", loss='categorical_crossentropy',\n",
    "              metrics=['accuracy']) \n",
    "model.fit(training_generator, validation_data=validation_generator,epochs=5)\n",
    "prediction=model.predict(test_generator)\n",
    "y_pred_bool = np.argmax(prediction, axis=1)\n",
    "print(classification_report(y_true_bool, y_pred_bool))"
   ]
  },
  {
   "cell_type": "markdown",
   "metadata": {
    "colab_type": "text",
    "id": "6b-u_DVujzJZ"
   },
   "source": [
    "SGD algoritmasi (LR:0.0001, momentum:0.7) ile finetune et ve performans skorlarini hesapla (10 puan)"
   ]
  },
  {
   "cell_type": "code",
   "execution_count": null,
   "metadata": {
    "colab": {},
    "colab_type": "code",
    "id": "ps2uXiM6xnHx"
   },
   "outputs": [],
   "source": [
    "loaded_model_1 = \n",
    "tf.keras.models.load_model('/content/drive/My Drive/Colab Notebooks/HandGestures/model')\n",
    "# make the selected late layers of the base model trainable\n",
    "for layer in loaded_model_1.layers[:127]:\n",
    "   layer.trainable = False\n",
    "for layer in loaded_model_1.layers[127:]:\n",
    "   layer.trainable = True\n",
    "\n",
    "# we need to recompile the model for these modifications to take effect\n",
    "from tensorflow.keras.optimizers import SGD\n",
    "loaded_model_1.compile(optimizer=\"Adam\", \n",
    "                       loss='categorical_crossentropy',metrics=['accuracy']) #\n",
    "loaded_model_1.fit(training_generator, \n",
    "                   validation_data=validation_generator,epochs=5)\n",
    "prediction=loaded_model_1.predict(test_generator)\n",
    "y_pred_bool = np.argmax(prediction, axis=1)\n",
    "print(classification_report(y_true_bool, y_pred_bool))\n"
   ]
  },
  {
   "cell_type": "markdown",
   "metadata": {
    "colab_type": "text",
    "id": "49--k11Jj8-n"
   },
   "source": [
    "SGD algoritmasi (LR:0.0001, momentum:0.9) ile finetune et ve performans skorlarini hesapla (10 puan)"
   ]
  },
  {
   "cell_type": "code",
   "execution_count": null,
   "metadata": {
    "colab": {},
    "colab_type": "code",
    "id": "nRzlH-aelmka"
   },
   "outputs": [],
   "source": [
    "loaded_model_2 = \n",
    "tf.keras.models.load_model('/content/drive/My Drive/Colab Notebooks/HandGestures/model')\n",
    "# make the selected late layers of the base model trainable\n",
    "for layer in loaded_model_2.layers[:127]:\n",
    "   layer.trainable = False\n",
    "for layer in loaded_model_2.layers[127:]:\n",
    "   layer.trainable = True\n",
    "\n",
    "# we need to recompile the model for these modifications to take effect\n",
    "from tensorflow.keras.optimizers import SGD\n",
    "loaded_model_2.compile(optimizer=\"Adam\", \n",
    "                       loss='categorical_crossentropy',metrics=['accuracy']) #\n",
    "loaded_model_2.fit(training_generator, \n",
    "                   validation_data=validation_generator,epochs=5)\n",
    "prediction=loaded_model_2.predict(test_generator)\n",
    "y_pred_bool = np.argmax(prediction, axis=1)\n",
    "print(classification_report(y_true_bool, y_pred_bool))"
   ]
  },
  {
   "cell_type": "markdown",
   "metadata": {
    "colab_type": "text",
    "id": "nQMLafaDj-s7"
   },
   "source": [
    "SGD algoritmasi (LR:0.0001, momentum:0.98) ile finetune et ve performans skorlarini hesapla (10 puan)"
   ]
  },
  {
   "cell_type": "code",
   "execution_count": null,
   "metadata": {
    "colab": {},
    "colab_type": "code",
    "id": "B2hBodnxFtJH"
   },
   "outputs": [],
   "source": [
    "loaded_model_3 = \n",
    "tf.keras.models.load_model('/content/drive/My Drive/Colab Notebooks/HandGestures/model')\n",
    "# make the selected late layers of the base model trainable\n",
    "for layer in loaded_model_3.layers[:127]:\n",
    "   layer.trainable = False\n",
    "for layer in loaded_model_3.layers[127:]:\n",
    "   layer.trainable = True\n",
    "\n",
    "# we need to recompile the model for these modifications to take effect\n",
    "from tensorflow.keras.optimizers import SGD\n",
    "loaded_model_3.compile(optimizer=\"Adam\", \n",
    "                       loss='categorical_crossentropy',metrics=['accuracy']) \n",
    "loaded_model_3.fit(training_generator, \n",
    "                   validation_data=validation_generator,epochs=5)\n",
    "prediction=loaded_model_3.predict(test_generator)\n",
    "y_pred_bool = np.argmax(prediction, axis=1)\n",
    "print(classification_report(y_true_bool, y_pred_bool))"
   ]
  },
  {
   "cell_type": "markdown",
   "metadata": {
    "colab_type": "text",
    "id": "Oy15kdFtl1sG"
   },
   "source": [
    "Egittiğiniz modelleri accuracy ölcütüne göre siralayiniz. (10 puan)\n",
    "\n",
    "\n",
    "\n",
    "En yuksek accuracy Adam algoritmasi ile egitilen modelle elde edilmistir.\n"
   ]
  }
 ],
 "metadata": {
  "accelerator": "GPU",
  "colab": {
   "collapsed_sections": [],
   "name": "FinalExam.ipynb",
   "private_outputs": true,
   "provenance": []
  },
  "kernelspec": {
   "display_name": "Python 3",
   "language": "python",
   "name": "python3"
  },
  "language_info": {
   "codemirror_mode": {
    "name": "ipython",
    "version": 3
   },
   "file_extension": ".py",
   "mimetype": "text/x-python",
   "name": "python",
   "nbconvert_exporter": "python",
   "pygments_lexer": "ipython3",
   "version": "3.6.5"
  }
 },
 "nbformat": 4,
 "nbformat_minor": 1
}
