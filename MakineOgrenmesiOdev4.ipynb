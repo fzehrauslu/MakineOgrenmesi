{
  "nbformat": 4,
  "nbformat_minor": 0,
  "metadata": {
    "colab": {
      "name": "MakineOgrenmesiOdev4.ipynb",
      "provenance": [],
      "collapsed_sections": [],
      "include_colab_link": true
    },
    "kernelspec": {
      "display_name": "Python 3",
      "language": "python",
      "name": "python3"
    },
    "language_info": {
      "codemirror_mode": {
        "name": "ipython",
        "version": 3
      },
      "file_extension": ".py",
      "mimetype": "text/x-python",
      "name": "python",
      "nbconvert_exporter": "python",
      "pygments_lexer": "ipython3",
      "version": "3.6.5"
    }
  },
  "cells": [
    {
      "cell_type": "markdown",
      "metadata": {
        "id": "view-in-github",
        "colab_type": "text"
      },
      "source": [
        "<a href=\"https://colab.research.google.com/github/fzehrauslu/MakineOgrenmesi/blob/master/MakineOgrenmesiOdev4.ipynb\" target=\"_parent\"><img src=\"https://colab.research.google.com/assets/colab-badge.svg\" alt=\"Open In Colab\"/></a>"
      ]
    },
    {
      "cell_type": "code",
      "metadata": {
        "colab_type": "code",
        "id": "UV51-uTDHY2P",
        "colab": {}
      },
      "source": [
        "import pandas as pd\n",
        "import numpy as np\n",
        "import sklearn\n",
        "from sklearn.model_selection import StratifiedKFold\n",
        "from sklearn.ensemble import RandomForestClassifier\n",
        "from sklearn.model_selection import GridSearchCV\n",
        "from sklearn.cluster import KMeans\n",
        "from sklearn.model_selection import train_test_split\n",
        "import os\n",
        "import keras\n",
        "from keras.preprocessing import image\n",
        "from keras.applications.imagenet_utils import preprocess_input\n",
        "import random\n",
        "import seaborn as sb\n"
      ],
      "execution_count": 0,
      "outputs": []
    },
    {
      "cell_type": "markdown",
      "metadata": {
        "colab_type": "text",
        "id": "q6DWt4pCGpP8"
      },
      "source": [
        "Q. (10 p) Fashion mnist veri setini yükle"
      ]
    },
    {
      "cell_type": "code",
      "metadata": {
        "colab_type": "code",
        "id": "DjqH08L85qOT",
        "colab": {}
      },
      "source": [
        "from keras.datasets import fashion_mnist\n",
        "((trainX, trainY), (testX, testY)) = fashion_mnist.load_data()\n",
        "trainX=np.reshape(trainX,(-1,28*28))\n",
        "testX=np.reshape(testX,(-1,28*28))"
      ],
      "execution_count": 0,
      "outputs": []
    },
    {
      "cell_type": "markdown",
      "metadata": {
        "colab_type": "text",
        "id": "cW8H1KbTGxe5"
      },
      "source": [
        "Q. (10 p)10 tane karar ağacı içeren random forest modelini eğitin. (5 p) Her bir ağaç için maksimum derinliği 3 olarak alın. (5 p)Eğitim ve test veri setinde precision, recall, f1 score ve (5 p) accuracy ölçütlerini hesaplayın.\n"
      ]
    },
    {
      "cell_type": "code",
      "metadata": {
        "colab_type": "code",
        "id": "Zt8J0NsxH8jR",
        "outputId": "c9adaef8-0d5d-49da-a9b9-8a4f2d860687",
        "colab": {
          "base_uri": "https://localhost:8080/",
          "height": 629
        }
      },
      "source": [
        "# ==== Random Forest modelini optimum parametre degerlerini kullanmaksizin egit ========\n",
        "rf = RandomForestClassifier(n_estimators=10,max_depth=3)\n",
        "rf.fit(trainX, trainY)\n",
        "# Egitim veriseti icin tahminde bulun \n",
        "y_pred_train = rf.predict(trainX)\n",
        "# Test veriseti icin tahminde bulun \n",
        "y_pred_test = rf.predict(testX)\n",
        "# Egitim veri seti icin performans olcutlerini yazdir. \n",
        "print(\"Training metrics:\")\n",
        "print(sklearn.metrics.classification_report(y_true= trainY, y_pred= y_pred_train))\n",
        "# Test veri seti icin performans olcutlerini yazdir. \n",
        "print(\"Test data metrics:\")\n",
        "print(sklearn.metrics.classification_report(y_true= testY, y_pred= y_pred_test))\n",
        "\n"
      ],
      "execution_count": 7,
      "outputs": [
        {
          "output_type": "stream",
          "text": [
            "Training metrics:\n",
            "              precision    recall  f1-score   support\n",
            "\n",
            "           0       0.68      0.81      0.74      6000\n",
            "           1       0.95      0.86      0.90      6000\n",
            "           2       0.39      0.83      0.53      6000\n",
            "           3       0.70      0.76      0.73      6000\n",
            "           4       0.50      0.30      0.38      6000\n",
            "           5       0.90      0.64      0.75      6000\n",
            "           6       0.50      0.00      0.00      6000\n",
            "           7       0.75      0.87      0.80      6000\n",
            "           8       0.85      0.90      0.87      6000\n",
            "           9       0.80      0.92      0.86      6000\n",
            "\n",
            "    accuracy                           0.69     60000\n",
            "   macro avg       0.70      0.69      0.66     60000\n",
            "weighted avg       0.70      0.69      0.66     60000\n",
            "\n",
            "Test data metrics:\n",
            "              precision    recall  f1-score   support\n",
            "\n",
            "           0       0.68      0.79      0.73      1000\n",
            "           1       0.95      0.84      0.89      1000\n",
            "           2       0.38      0.83      0.52      1000\n",
            "           3       0.69      0.76      0.72      1000\n",
            "           4       0.50      0.31      0.38      1000\n",
            "           5       0.90      0.61      0.73      1000\n",
            "           6       0.50      0.00      0.00      1000\n",
            "           7       0.74      0.86      0.80      1000\n",
            "           8       0.84      0.89      0.86      1000\n",
            "           9       0.78      0.92      0.85      1000\n",
            "\n",
            "    accuracy                           0.68     10000\n",
            "   macro avg       0.70      0.68      0.65     10000\n",
            "weighted avg       0.70      0.68      0.65     10000\n",
            "\n"
          ],
          "name": "stdout"
        }
      ]
    },
    {
      "cell_type": "code",
      "metadata": {
        "colab_type": "code",
        "id": "LWKx_JCL1jWt",
        "outputId": "589a3fcf-43b9-4355-b2ce-9ffc658534e9",
        "colab": {
          "base_uri": "https://localhost:8080/",
          "height": 34
        }
      },
      "source": [
        "sklearn.metrics.accuracy_score(trainY,  y_pred_train)"
      ],
      "execution_count": 8,
      "outputs": [
        {
          "output_type": "execute_result",
          "data": {
            "text/plain": [
              "0.68935"
            ]
          },
          "metadata": {
            "tags": []
          },
          "execution_count": 8
        }
      ]
    },
    {
      "cell_type": "code",
      "metadata": {
        "id": "1R-ExIpGRjXI",
        "colab_type": "code",
        "colab": {
          "base_uri": "https://localhost:8080/",
          "height": 34
        },
        "outputId": "4e62791c-a714-4d3a-b1f6-9b2e213b10e5"
      },
      "source": [
        "sklearn.metrics.accuracy_score(testY,  y_pred_test)"
      ],
      "execution_count": 9,
      "outputs": [
        {
          "output_type": "execute_result",
          "data": {
            "text/plain": [
              "0.6805"
            ]
          },
          "metadata": {
            "tags": []
          },
          "execution_count": 9
        }
      ]
    },
    {
      "cell_type": "markdown",
      "metadata": {
        "colab_type": "text",
        "id": "nKuI7PyMKbh8"
      },
      "source": [
        "Q. (20 p) Random forest modelininin sınıflandırma için kullandığı özniteliklerin(features) önem derecelerini grafik olarak cizdiriniz. "
      ]
    },
    {
      "cell_type": "code",
      "metadata": {
        "colab_type": "code",
        "id": "8mcX_T3-KcfR",
        "colab": {}
      },
      "source": [
        "importances = rf.feature_importances_"
      ],
      "execution_count": 0,
      "outputs": []
    },
    {
      "cell_type": "code",
      "metadata": {
        "colab_type": "code",
        "id": "wmayO7UUK5sv",
        "outputId": "68e2d018-c298-4dda-c3c5-4f35782a8cb2",
        "colab": {
          "base_uri": "https://localhost:8080/",
          "height": 1000
        }
      },
      "source": [
        "import matplotlib.pyplot as plt\n",
        "# Random forest icindeki her bir karar agaci icin, ozniteliklerin \n",
        "# onem derecelerini elde et ve her bir ozellik icin tum karar agaclari\n",
        "# tarafindan verilen onemin standard sapmasini hesapla. \n",
        "# (Bu adim secmelidir. Ozniteliklerin onem derecesini bulmak \n",
        "# icin zorunlu degildir. )\n",
        "# Not: Bir onceki adimda (yani \"importances = rf.feature_importances_\" \n",
        "# kodu ile tanimli satirda), \n",
        "# ozniteliklerin onem derecesi, random foresttaki tum agaclar \n",
        "# toplu olarak dikkate alinarak hesaplanmisti.\n",
        "\n",
        "std = np.std([rf.feature_importances_ for tree in rf.estimators_],\n",
        "             axis=0)\n",
        "\n",
        "#ozniteliklerin onem derecelerini buyukten kucuge dogru sirala\n",
        "indices = np.argsort(importances)[::-1]\n",
        "\n",
        "# ozniteliklerin onem derecelerini yazdir\n",
        "print(\"Feature ranking:\")\n",
        "\n",
        "for f in range(trainX.shape[1]):\n",
        "    if importances[indices[f]]>0:\n",
        "      print(\"%d. feature %d (%f)\" % (f + 1, indices[f], importances[indices[f]]))\n",
        "\n",
        "# ozniteliklerin onem derecelerini cizdir\n",
        "plt.figure()\n",
        "plt.title(\"Feature importances\")\n",
        "plt.bar(range(trainX.shape[1]), importances[indices],\n",
        "        color=\"r\", yerr=std[indices], align=\"center\")\n",
        "plt.xticks(range(trainX.shape[1]), indices)\n",
        "plt.xlim([-1, trainX.shape[1]])\n",
        "plt.show()\n"
      ],
      "execution_count": 11,
      "outputs": [
        {
          "output_type": "stream",
          "text": [
            "Feature ranking:\n",
            "1. feature 290 (0.050669)\n",
            "2. feature 205 (0.049603)\n",
            "3. feature 39 (0.036037)\n",
            "4. feature 454 (0.036007)\n",
            "5. feature 686 (0.027631)\n",
            "6. feature 123 (0.027617)\n",
            "7. feature 599 (0.027476)\n",
            "8. feature 70 (0.026901)\n",
            "9. feature 518 (0.026498)\n",
            "10. feature 178 (0.025924)\n",
            "11. feature 95 (0.025852)\n",
            "12. feature 206 (0.024203)\n",
            "13. feature 630 (0.021648)\n",
            "14. feature 658 (0.020622)\n",
            "15. feature 470 (0.020212)\n",
            "16. feature 546 (0.020129)\n",
            "17. feature 498 (0.019879)\n",
            "18. feature 554 (0.019226)\n",
            "19. feature 414 (0.018462)\n",
            "20. feature 247 (0.018101)\n",
            "21. feature 582 (0.017916)\n",
            "22. feature 162 (0.017666)\n",
            "23. feature 714 (0.017251)\n",
            "24. feature 639 (0.017122)\n",
            "25. feature 406 (0.017003)\n",
            "26. feature 553 (0.016517)\n",
            "27. feature 373 (0.015264)\n",
            "28. feature 469 (0.014565)\n",
            "29. feature 568 (0.014245)\n",
            "30. feature 204 (0.014242)\n",
            "31. feature 285 (0.013905)\n",
            "32. feature 220 (0.013452)\n",
            "33. feature 400 (0.013103)\n",
            "34. feature 248 (0.013043)\n",
            "35. feature 597 (0.013038)\n",
            "36. feature 572 (0.012874)\n",
            "37. feature 433 (0.012705)\n",
            "38. feature 125 (0.012644)\n",
            "39. feature 275 (0.012462)\n",
            "40. feature 92 (0.012367)\n",
            "41. feature 596 (0.012063)\n",
            "42. feature 263 (0.011945)\n",
            "43. feature 93 (0.011790)\n",
            "44. feature 421 (0.011570)\n",
            "45. feature 361 (0.010983)\n",
            "46. feature 96 (0.010607)\n",
            "47. feature 381 (0.009767)\n",
            "48. feature 404 (0.008635)\n",
            "49. feature 403 (0.007552)\n",
            "50. feature 417 (0.007494)\n",
            "51. feature 408 (0.007342)\n",
            "52. feature 317 (0.007200)\n",
            "53. feature 444 (0.006587)\n",
            "54. feature 77 (0.006222)\n",
            "55. feature 299 (0.005782)\n",
            "56. feature 304 (0.005738)\n",
            "57. feature 120 (0.005635)\n",
            "58. feature 241 (0.004976)\n",
            "59. feature 585 (0.004525)\n",
            "60. feature 181 (0.004119)\n",
            "61. feature 36 (0.003261)\n",
            "62. feature 268 (0.001659)\n",
            "63. feature 607 (0.000465)\n"
          ],
          "name": "stdout"
        },
        {
          "output_type": "display_data",
          "data": {
            "image/png": "[encoded data removed]",
            "text/plain": [
              "<Figure size 432x288 with 1 Axes>"
            ]
          },
          "metadata": {
            "tags": [],
            "needs_background": "light"
          }
        }
      ]
    },
    {
      "cell_type": "markdown",
      "metadata": {
        "colab_type": "text",
        "id": "oBFNkMRVHa-x"
      },
      "source": [
        "Q. (10 p) Random forest modeli için en başarılı performansı veren parametre değerlerini bulmak için grid search metodunu kullanın (GridSearchCV). Bu metotta, (5 p) karar ağaçlarının sayısı için [10,50], (5 p)  her bir yapraktaki minimum örnek sayısı için [2,3] ve (5 p)  maksimum derinlik icin [3,10] aralığındaki değerleri kullanınız. (5 p) Eğitim ve test veri setinde precision, recall, f1 score ve (5 p) accuracy ölçütlerini hesaplayın."
      ]
    },
    {
      "cell_type": "code",
      "metadata": {
        "colab_type": "code",
        "id": "Fe_4oQSuLRGi",
        "outputId": "943266d1-0d3c-462d-d034-71acb1494591",
        "colab": {
          "base_uri": "https://localhost:8080/",
          "height": 629
        }
      },
      "source": [
        "# Gridsearch metodu ile, random forest modelinin parametreleri olan, \n",
        "# karar agaci sayisi, her bir yapraktaki minimum ornek sayisi ve\n",
        "# karar agaclarinin derinligi degiskenlerine, optimum degerin aranmak\n",
        "# istendigi deger araligini giriniz. 'n_estimators':[10,50] gibi, \n",
        "# \n",
        "\n",
        "clf = GridSearchCV(rf, param_grid={'n_estimators':[10,50],'min_samples_leaf':[2,3],'max_depth':[3,10]})\n",
        "# Gridsearch metodunda girilen deger araliklarindaki parametre degerlerine sahip\n",
        "# her model icin, ayni egitim verisetini kullanarak egitim yapiniz. \n",
        "\n",
        "model = clf.fit(trainX, trainY)\n",
        "\n",
        "\n",
        "y_pred_train = model.predict(trainX)\n",
        "y_pred_test = model.predict(testX)\n",
        "print(\"Training metrics:\")\n",
        "print(sklearn.metrics.classification_report(y_true= trainY, y_pred= y_pred_train))\n",
        "    \n",
        "\n",
        "y_pred_test = model.predict(testX)\n",
        "print(\"Test data metrics:\")\n",
        "print(sklearn.metrics.classification_report(y_true= testY, y_pred= y_pred_test))"
      ],
      "execution_count": 12,
      "outputs": [
        {
          "output_type": "stream",
          "text": [
            "Training metrics:\n",
            "              precision    recall  f1-score   support\n",
            "\n",
            "           0       0.83      0.89      0.86      6000\n",
            "           1       1.00      0.96      0.98      6000\n",
            "           2       0.77      0.77      0.77      6000\n",
            "           3       0.86      0.92      0.89      6000\n",
            "           4       0.72      0.84      0.78      6000\n",
            "           5       0.99      0.95      0.97      6000\n",
            "           6       0.81      0.57      0.67      6000\n",
            "           7       0.92      0.94      0.93      6000\n",
            "           8       0.97      0.98      0.98      6000\n",
            "           9       0.94      0.95      0.94      6000\n",
            "\n",
            "    accuracy                           0.88     60000\n",
            "   macro avg       0.88      0.88      0.88     60000\n",
            "weighted avg       0.88      0.88      0.88     60000\n",
            "\n",
            "Test data metrics:\n",
            "              precision    recall  f1-score   support\n",
            "\n",
            "           0       0.79      0.82      0.81      1000\n",
            "           1       0.99      0.94      0.97      1000\n",
            "           2       0.71      0.73      0.72      1000\n",
            "           3       0.82      0.90      0.86      1000\n",
            "           4       0.68      0.80      0.74      1000\n",
            "           5       0.98      0.93      0.96      1000\n",
            "           6       0.69      0.49      0.57      1000\n",
            "           7       0.90      0.92      0.91      1000\n",
            "           8       0.95      0.96      0.96      1000\n",
            "           9       0.91      0.94      0.93      1000\n",
            "\n",
            "    accuracy                           0.84     10000\n",
            "   macro avg       0.84      0.84      0.84     10000\n",
            "weighted avg       0.84      0.84      0.84     10000\n",
            "\n"
          ],
          "name": "stdout"
        }
      ]
    },
    {
      "cell_type": "code",
      "metadata": {
        "id": "FZZ4FKZBRq5V",
        "colab_type": "code",
        "colab": {
          "base_uri": "https://localhost:8080/",
          "height": 34
        },
        "outputId": "772e1bb6-8120-434b-afbe-b9a98d5f42e0"
      },
      "source": [
        "sklearn.metrics.accuracy_score(trainY,  y_pred_train)"
      ],
      "execution_count": 13,
      "outputs": [
        {
          "output_type": "execute_result",
          "data": {
            "text/plain": [
              "0.8779666666666667"
            ]
          },
          "metadata": {
            "tags": []
          },
          "execution_count": 13
        }
      ]
    },
    {
      "cell_type": "code",
      "metadata": {
        "colab_type": "code",
        "id": "ufYoS9XFFc7d",
        "outputId": "03b10aa9-acb7-4ef7-ad03-6ae93e316cde",
        "colab": {
          "base_uri": "https://localhost:8080/",
          "height": 34
        }
      },
      "source": [
        "sklearn.metrics.accuracy_score(testY,  y_pred_test)"
      ],
      "execution_count": 14,
      "outputs": [
        {
          "output_type": "execute_result",
          "data": {
            "text/plain": [
              "0.8443"
            ]
          },
          "metadata": {
            "tags": []
          },
          "execution_count": 14
        }
      ]
    },
    {
      "cell_type": "markdown",
      "metadata": {
        "colab_type": "text",
        "id": "GTamEvd4IToL"
      },
      "source": [
        "Q. (10 p) Random forest modeli için, grid search metodunu kullanarak bulduğunuz en iyi sonuç veren parametre değerlerini yazdırınız."
      ]
    },
    {
      "cell_type": "code",
      "metadata": {
        "colab_type": "code",
        "id": "agmkmq4jGUxl",
        "outputId": "409005df-3464-436d-be0e-131d9c97fc20",
        "colab": {
          "base_uri": "https://localhost:8080/",
          "height": 34
        }
      },
      "source": [
        "model.best_params_"
      ],
      "execution_count": 15,
      "outputs": [
        {
          "output_type": "execute_result",
          "data": {
            "text/plain": [
              "{'max_depth': 10, 'min_samples_leaf': 3, 'n_estimators': 50}"
            ]
          },
          "metadata": {
            "tags": []
          },
          "execution_count": 15
        }
      ]
    }
  ]
}