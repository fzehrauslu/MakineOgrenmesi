{
 "cells": [
  {
   "cell_type": "code",
   "execution_count": 0,
   "metadata": {
    "colab": {
     "base_uri": "https://localhost:8080/",
     "height": 108
    },
    "colab_type": "code",
    "id": "UV51-uTDHY2P",
    "outputId": "69044a03-23b1-4828-f935-c20c84be068d"
   },
   "outputs": [
    {
     "name": "stderr",
     "output_type": "stream",
     "text": [
      "Using TensorFlow backend.\n",
      "/usr/local/lib/python3.6/dist-packages/statsmodels/tools/_testing.py:19: FutureWarning: pandas.util.testing is deprecated. Use the functions in the public API at pandas.testing instead.\n",
      "  import pandas.util.testing as tm\n"
     ]
    }
   ],
   "source": [
    "import pandas as pd\n",
    "import numpy as np\n",
    "import sklearn\n",
    "from sklearn.model_selection import StratifiedKFold\n",
    "from sklearn.ensemble import RandomForestClassifier\n",
    "from sklearn.model_selection import GridSearchCV\n",
    "from sklearn.cluster import KMeans\n",
    "from sklearn.model_selection import train_test_split\n",
    "import os\n",
    "import keras\n",
    "from keras.preprocessing import image\n",
    "from keras.applications.imagenet_utils import preprocess_input\n",
    "import random\n",
    "import seaborn as sb\n"
   ]
  },
  {
   "cell_type": "markdown",
   "metadata": {
    "colab_type": "text",
    "id": "q6DWt4pCGpP8"
   },
   "source": [
    "Q. (10 p) Fashion mnist veri setini yükle"
   ]
  },
  {
   "cell_type": "code",
   "execution_count": 0,
   "metadata": {
    "colab": {},
    "colab_type": "code",
    "id": "DjqH08L85qOT"
   },
   "outputs": [],
   "source": [
    "from keras.datasets import fashion_mnist\n",
    "((trainX, trainY), (testX, testY)) = fashion_mnist.load_data()\n",
    "trainX=np.reshape(trainX,(-1,28*28))\n",
    "testX=np.reshape(testX,(-1,28*28))"
   ]
  },
  {
   "cell_type": "markdown",
   "metadata": {
    "colab_type": "text",
    "id": "cW8H1KbTGxe5"
   },
   "source": [
    "Q. (10 p)10 tane karar ağacı içeren random forest modelini eğitin. (5 p) Her bir ağaç için maksimum derinliği 3 olarak alın. (5 p)Eğitim ve test veri setinde precision, recall, f1 score ve (5 p) accuracy ölçütlerini hesaplayın.\n"
   ]
  },
  {
   "cell_type": "code",
   "execution_count": 0,
   "metadata": {
    "colab": {
     "base_uri": "https://localhost:8080/",
     "height": 629
    },
    "colab_type": "code",
    "id": "Zt8J0NsxH8jR",
    "outputId": "e2936708-5dc1-48e3-d966-e9932dae99e6"
   },
   "outputs": [
    {
     "name": "stdout",
     "output_type": "stream",
     "text": [
      "Training metrics:\n",
      "              precision    recall  f1-score   support\n",
      "\n",
      "           0       0.71      0.80      0.75      6000\n",
      "           1       0.76      0.94      0.84      6000\n",
      "           2       0.38      0.90      0.53      6000\n",
      "           3       0.68      0.68      0.68      6000\n",
      "           4       0.42      0.08      0.14      6000\n",
      "           5       0.91      0.65      0.76      6000\n",
      "           6       0.42      0.00      0.01      6000\n",
      "           7       0.71      0.88      0.79      6000\n",
      "           8       0.88      0.83      0.85      6000\n",
      "           9       0.79      0.89      0.83      6000\n",
      "\n",
      "    accuracy                           0.67     60000\n",
      "   macro avg       0.66      0.67      0.62     60000\n",
      "weighted avg       0.66      0.67      0.62     60000\n",
      "\n",
      "Test data metrics:\n",
      "              precision    recall  f1-score   support\n",
      "\n",
      "           0       0.71      0.80      0.75      1000\n",
      "           1       0.76      0.93      0.83      1000\n",
      "           2       0.38      0.91      0.53      1000\n",
      "           3       0.69      0.68      0.69      1000\n",
      "           4       0.47      0.10      0.16      1000\n",
      "           5       0.92      0.64      0.75      1000\n",
      "           6       0.22      0.00      0.00      1000\n",
      "           7       0.72      0.88      0.79      1000\n",
      "           8       0.88      0.83      0.86      1000\n",
      "           9       0.78      0.90      0.84      1000\n",
      "\n",
      "    accuracy                           0.67     10000\n",
      "   macro avg       0.65      0.67      0.62     10000\n",
      "weighted avg       0.65      0.67      0.62     10000\n",
      "\n"
     ]
    }
   ],
   "source": [
    "# ==== Random Forest modelini optimum parametre degerlerini kullanmaksizin egit ========\n",
    "rf = RandomForestClassifier(n_estimators=10,max_depth=3)\n",
    "rf.fit(trainX, trainY)\n",
    "# Egitim veriseti icin tahminde bulun \n",
    "y_pred_train = rf.predict(trainX)\n",
    "# Test veriseti icin tahminde bulun \n",
    "y_pred_test = rf.predict(testX)\n",
    "# Egitim veri seti icin performans olcutlerini yazdir. \n",
    "print(\"Training metrics:\")\n",
    "print(sklearn.metrics.classification_report(y_true= trainY, y_pred= y_pred_train))\n",
    "# Test veri seti icin performans olcutlerini yazdir. \n",
    "print(\"Test data metrics:\")\n",
    "print(sklearn.metrics.classification_report(y_true= testY, y_pred= y_pred_test))\n",
    "\n"
   ]
  },
  {
   "cell_type": "code",
   "execution_count": 0,
   "metadata": {
    "colab": {
     "base_uri": "https://localhost:8080/",
     "height": 34
    },
    "colab_type": "code",
    "id": "LWKx_JCL1jWt",
    "outputId": "eae1d728-ef50-4a83-b08f-a130c8968936"
   },
   "outputs": [
    {
     "data": {
      "text/plain": [
       "0.6668"
      ]
     },
     "execution_count": 4,
     "metadata": {
      "tags": []
     },
     "output_type": "execute_result"
    }
   ],
   "source": [
    "sklearn.metrics.accuracy_score(testY,  y_pred_test)"
   ]
  },
  {
   "cell_type": "markdown",
   "metadata": {
    "colab_type": "text",
    "id": "nKuI7PyMKbh8"
   },
   "source": [
    "Q. (20 p) Random forest modelininin sınıflandırma için kullandığı özniteliklerin(features) önem derecelerini grafik olarak cizdiriniz. "
   ]
  },
  {
   "cell_type": "code",
   "execution_count": 0,
   "metadata": {
    "colab": {},
    "colab_type": "code",
    "id": "8mcX_T3-KcfR"
   },
   "outputs": [],
   "source": [
    "importances = rf.feature_importances_"
   ]
  },
  {
   "cell_type": "code",
   "execution_count": 0,
   "metadata": {
    "colab": {
     "base_uri": "https://localhost:8080/",
     "height": 1000
    },
    "colab_type": "code",
    "id": "wmayO7UUK5sv",
    "outputId": "772a9eec-506c-4496-d23a-8e48a68c2ef6"
   },
   "outputs": [
    {
     "name": "stdout",
     "output_type": "stream",
     "text": [
      "Feature ranking:\n",
      "1. feature 96 (0.056006)\n",
      "2. feature 574 (0.055081)\n",
      "3. feature 234 (0.028532)\n",
      "4. feature 152 (0.028309)\n",
      "5. feature 370 (0.027343)\n",
      "6. feature 94 (0.026932)\n",
      "7. feature 150 (0.026770)\n",
      "8. feature 577 (0.026644)\n",
      "9. feature 263 (0.026348)\n",
      "10. feature 178 (0.026209)\n",
      "11. feature 233 (0.024028)\n",
      "12. feature 120 (0.023597)\n",
      "13. feature 658 (0.021795)\n",
      "14. feature 538 (0.020599)\n",
      "15. feature 509 (0.019592)\n",
      "16. feature 179 (0.019349)\n",
      "17. feature 498 (0.019328)\n",
      "18. feature 454 (0.019036)\n",
      "19. feature 527 (0.018745)\n",
      "20. feature 173 (0.018382)\n",
      "21. feature 247 (0.017267)\n",
      "22. feature 175 (0.017264)\n",
      "23. feature 343 (0.016677)\n",
      "24. feature 229 (0.016505)\n",
      "25. feature 341 (0.015805)\n",
      "26. feature 600 (0.015205)\n",
      "27. feature 602 (0.015117)\n",
      "28. feature 315 (0.014808)\n",
      "29. feature 350 (0.014598)\n",
      "30. feature 580 (0.014075)\n",
      "31. feature 599 (0.014018)\n",
      "32. feature 147 (0.013722)\n",
      "33. feature 202 (0.013374)\n",
      "34. feature 627 (0.013363)\n",
      "35. feature 625 (0.013258)\n",
      "36. feature 334 (0.012799)\n",
      "37. feature 695 (0.012665)\n",
      "38. feature 638 (0.012426)\n",
      "39. feature 69 (0.012302)\n",
      "40. feature 201 (0.012054)\n",
      "41. feature 126 (0.012022)\n",
      "42. feature 508 (0.011738)\n",
      "43. feature 290 (0.011697)\n",
      "44. feature 66 (0.011282)\n",
      "45. feature 381 (0.011002)\n",
      "46. feature 445 (0.010676)\n",
      "47. feature 586 (0.010134)\n",
      "48. feature 118 (0.009925)\n",
      "49. feature 537 (0.009618)\n",
      "50. feature 431 (0.008618)\n",
      "51. feature 418 (0.008548)\n",
      "52. feature 203 (0.008298)\n",
      "53. feature 376 (0.008178)\n",
      "54. feature 276 (0.008099)\n",
      "55. feature 533 (0.006237)\n",
      "56. feature 269 (0.006213)\n",
      "57. feature 181 (0.006010)\n",
      "58. feature 297 (0.005599)\n",
      "59. feature 395 (0.004959)\n",
      "60. feature 38 (0.004793)\n",
      "61. feature 408 (0.003843)\n",
      "62. feature 387 (0.001793)\n",
      "63. feature 39 (0.000795)\n"
     ]
    },
    {
     "data": {
      "image/png": "[encoded data removed]",
      "text/plain": [
       "<Figure size 432x288 with 1 Axes>"
      ]
     },
     "metadata": {
      "needs_background": "light",
      "tags": []
     },
     "output_type": "display_data"
    }
   ],
   "source": [
    "import matplotlib.pyplot as plt\n",
    "# Random forest icindeki her bir karar agaci icin, ozniteliklerin \n",
    "# onem derecelerini elde et ve her bir ozellik icin tum karar agaclari\n",
    "# tarafindan verilen onemin standard sapmasini hesapla. \n",
    "# (Bu adim secmelidir. Ozniteliklerin onem derecesini bulmak \n",
    "# icin zorunlu degildir. )\n",
    "# Not: Bir onceki adimda (yani \"importances = rf.feature_importances_\" \n",
    "# kodu ile tanimli satirda), \n",
    "# ozniteliklerin onem derecesi, random foresttaki tum agaclar \n",
    "# toplu olarak dikkate alinarak hesaplanmisti.\n",
    "\n",
    "std = np.std([rf.feature_importances_ for tree in rf.estimators_],\n",
    "             axis=0)\n",
    "\n",
    "#ozniteliklerin onem derecelerini buyukten kucuge dogru sirala\n",
    "indices = np.argsort(importances)[::-1]\n",
    "\n",
    "# ozniteliklerin onem derecelerini yazdir\n",
    "print(\"Feature ranking:\")\n",
    "\n",
    "for f in range(trainX.shape[1]):\n",
    "    if importances[indices[f]]>0:\n",
    "      print(\"%d. feature %d (%f)\" % (f + 1, indices[f], importances[indices[f]]))\n",
    "\n",
    "# ozniteliklerin onem derecelerini cizdir\n",
    "plt.figure()\n",
    "plt.title(\"Feature importances\")\n",
    "plt.bar(range(trainX.shape[1]), importances[indices],\n",
    "        color=\"r\", yerr=std[indices], align=\"center\")\n",
    "plt.xticks(range(trainX.shape[1]), indices)\n",
    "plt.xlim([-1, trainX.shape[1]])\n",
    "plt.show()\n"
   ]
  },
  {
   "cell_type": "markdown",
   "metadata": {
    "colab_type": "text",
    "id": "oBFNkMRVHa-x"
   },
   "source": [
    "Q. (10 p) Random forest modeli için en başarılı performansı veren parametre değerlerini bulmak için grid search metodunu kullanın (GridSearchCV). Bu metotta, (5 p) karar ağaçlarının sayısı için [10,50], (5 p)  her bir yapraktaki minimum örnek sayısı için [2,3] ve (5 p)  maksimum derinlik icin [3,10] aralığındaki değerleri kullanınız. (5 p) Eğitim ve test veri setinde precision, recall, f1 score ve (5 p) accuracy ölçütlerini hesaplayın."
   ]
  },
  {
   "cell_type": "code",
   "execution_count": 0,
   "metadata": {
    "colab": {
     "base_uri": "https://localhost:8080/",
     "height": 629
    },
    "colab_type": "code",
    "id": "Fe_4oQSuLRGi",
    "outputId": "fe9cc5a0-8679-40c6-885e-288c58f3242e"
   },
   "outputs": [
    {
     "name": "stdout",
     "output_type": "stream",
     "text": [
      "Training metrics:\n",
      "              precision    recall  f1-score   support\n",
      "\n",
      "           0       0.84      0.89      0.86      6000\n",
      "           1       1.00      0.96      0.98      6000\n",
      "           2       0.77      0.77      0.77      6000\n",
      "           3       0.85      0.93      0.89      6000\n",
      "           4       0.72      0.84      0.78      6000\n",
      "           5       0.99      0.95      0.97      6000\n",
      "           6       0.81      0.59      0.68      6000\n",
      "           7       0.91      0.94      0.92      6000\n",
      "           8       0.98      0.98      0.98      6000\n",
      "           9       0.93      0.95      0.94      6000\n",
      "\n",
      "    accuracy                           0.88     60000\n",
      "   macro avg       0.88      0.88      0.88     60000\n",
      "weighted avg       0.88      0.88      0.88     60000\n",
      "\n",
      "Test data metrics:\n",
      "              precision    recall  f1-score   support\n",
      "\n",
      "           0       0.80      0.83      0.81      1000\n",
      "           1       0.99      0.94      0.96      1000\n",
      "           2       0.70      0.73      0.72      1000\n",
      "           3       0.82      0.90      0.86      1000\n",
      "           4       0.69      0.80      0.74      1000\n",
      "           5       0.98      0.93      0.95      1000\n",
      "           6       0.68      0.48      0.56      1000\n",
      "           7       0.90      0.92      0.91      1000\n",
      "           8       0.95      0.96      0.95      1000\n",
      "           9       0.91      0.94      0.92      1000\n",
      "\n",
      "    accuracy                           0.84     10000\n",
      "   macro avg       0.84      0.84      0.84     10000\n",
      "weighted avg       0.84      0.84      0.84     10000\n",
      "\n"
     ]
    }
   ],
   "source": [
    "# Gridsearch metodu ile, random forest modelinin parametreleri olan, \n",
    "# karar agaci sayisi, her bir yapraktaki minimum ornek sayisi ve\n",
    "# karar agaclarinin derinligi degiskenlerine, optimum degerin aranmak\n",
    "# istendigi deger araligini giriniz. 'n_estimators':[10,50] gibi, \n",
    "# \n",
    "\n",
    "clf = GridSearchCV(rf, param_grid={'n_estimators':[10,50],...\n",
    "                                  'min_samples_leaf':[2,3],'max_depth':[3,10]})\n",
    "# Gridsearch metodunda girilen deger araliklarindaki parametre degerlerine sahip\n",
    "# her model icin, ayni egitim verisetini kullanarak egitim yapiniz. \n",
    "\n",
    "model = clf.fit(trainX, trainY)\n",
    "\n",
    "\n",
    "y_pred_train = model.predict(trainX)\n",
    "y_pred_test = model.predict(testX)\n",
    "print(\"Training metrics:\")\n",
    "print(sklearn.metrics.classification_report(y_true= trainY, y_pred= y_pred_train))\n",
    "    \n",
    "\n",
    "y_pred_test = model.predict(testX)\n",
    "print(\"Test data metrics:\")\n",
    "print(sklearn.metrics.classification_report(y_true= testY, y_pred= y_pred_test))"
   ]
  },
  {
   "cell_type": "code",
   "execution_count": 0,
   "metadata": {
    "colab": {
     "base_uri": "https://localhost:8080/",
     "height": 34
    },
    "colab_type": "code",
    "id": "ufYoS9XFFc7d",
    "outputId": "6fcb2960-8294-43bb-b895-b89e26a7473a"
   },
   "outputs": [
    {
     "data": {
      "text/plain": [
       "0.8417"
      ]
     },
     "execution_count": 8,
     "metadata": {
      "tags": []
     },
     "output_type": "execute_result"
    }
   ],
   "source": [
    "sklearn.metrics.accuracy_score(testY,  y_pred_test)"
   ]
  },
  {
   "cell_type": "markdown",
   "metadata": {
    "colab_type": "text",
    "id": "GTamEvd4IToL"
   },
   "source": [
    "Q. (10 p) Random forest modeli için, grid search metodunu kullanarak bulduğunuz en iyi sonuç veren parametre değerlerini yazdırınız."
   ]
  },
  {
   "cell_type": "code",
   "execution_count": 0,
   "metadata": {
    "colab": {
     "base_uri": "https://localhost:8080/",
     "height": 34
    },
    "colab_type": "code",
    "id": "agmkmq4jGUxl",
    "outputId": "ba75a64c-2a82-441e-d402-2917fb329094"
   },
   "outputs": [
    {
     "data": {
      "text/plain": [
       "{'max_depth': 10, 'min_samples_leaf': 2, 'n_estimators': 50}"
      ]
     },
     "execution_count": 13,
     "metadata": {
      "tags": []
     },
     "output_type": "execute_result"
    }
   ],
   "source": [
    "model.best_params_"
   ]
  }
 ],
 "metadata": {
  "colab": {
   "collapsed_sections": [],
   "name": "MakineOgrenmesiOdev4.ipynb",
   "provenance": []
  },
  "kernelspec": {
   "display_name": "Python 3",
   "language": "python",
   "name": "python3"
  },
  "language_info": {
   "codemirror_mode": {
    "name": "ipython",
    "version": 3
   },
   "file_extension": ".py",
   "mimetype": "text/x-python",
   "name": "python",
   "nbconvert_exporter": "python",
   "pygments_lexer": "ipython3",
   "version": "3.6.5"
  }
 },
 "nbformat": 4,
 "nbformat_minor": 1
}
