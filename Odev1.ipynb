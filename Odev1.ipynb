{
  "nbformat": 4,
  "nbformat_minor": 0,
  "metadata": {
    "colab": {
      "name": "Copy of MakineOgrenmesiHW1.ipynb",
      "provenance": [],
      "collapsed_sections": []
    },
    "kernelspec": {
      "name": "python3",
      "display_name": "Python 3"
    }
  },
  "cells": [
    {
      "cell_type": "code",
      "metadata": {
        "id": "2IvJC4JI3vmk",
        "colab_type": "code",
        "colab": {}
      },
      "source": [
        "import numpy as np\n",
        "from sklearn.datasets import load_digits\n",
        "from sklearn.model_selection import train_test_split\n",
        "from sklearn.linear_model import LogisticRegression\n",
        "from sklearn import preprocessing\n",
        "from sklearn.metrics import accuracy_score, recall_score,precision_score,roc_auc_score,roc_curve\n",
        "import matplotlib.pyplot as plt\n"
      ],
      "execution_count": 0,
      "outputs": []
    },
    {
      "cell_type": "code",
      "metadata": {
        "id": "6E45HmpD5Rih",
        "colab_type": "code",
        "outputId": "d91d6ca3-d00d-43c3-d2b8-841cfce07d1d",
        "colab": {
          "base_uri": "https://localhost:8080/",
          "height": 34
        }
      },
      "source": [
        "Data,Target=load_digits(n_class=10, return_X_y=True)\n",
        "print(Data.shape,Target.shape)"
      ],
      "execution_count": 0,
      "outputs": [
        {
          "output_type": "stream",
          "text": [
            "(1797, 64) (1797,)\n"
          ],
          "name": "stdout"
        }
      ]
    },
    {
      "cell_type": "code",
      "metadata": {
        "id": "-fWOptyx6Urc",
        "colab_type": "code",
        "colab": {}
      },
      "source": [
        "# 5'ten buyuk sayilari 1 e, kucukleri 0 a ata \n",
        "Target=np.uint8(Target>5)"
      ],
      "execution_count": 0,
      "outputs": []
    },
    {
      "cell_type": "code",
      "metadata": {
        "id": "E7cakkur6xaw",
        "colab_type": "code",
        "colab": {}
      },
      "source": [
        "# veri setini standardize edelim. Boylece veri sifir ortalama ve birim varyansa sahip olur.\n",
        "Data = preprocessing.scale(Data)\n",
        "# dataseti egitim ve test veri seti olarak ayir\n",
        "X_train, X_test, y_train, y_test = train_test_split(Data, Target, test_size=0.2, random_state=42)\n",
        "# modeli egitim seti ile egit\n",
        "clf = LogisticRegression(random_state=0).fit(X_train, y_train)\n",
        "y_predicted=clf.predict(X_test)"
      ],
      "execution_count": 0,
      "outputs": []
    },
    {
      "cell_type": "code",
      "metadata": {
        "id": "VEfNjDW58uw5",
        "colab_type": "code",
        "outputId": "ff3992f3-fa9c-455d-c0c6-bdfd91941e9a",
        "colab": {
          "base_uri": "https://localhost:8080/",
          "height": 34
        }
      },
      "source": [
        "# accuracy, recall, precision metriklerini hesapla\n",
        "acc=accuracy_score(y_test,y_predicted)\n",
        "recall=recall_score(y_test,y_predicted)\n",
        "precision=precision_score(y_test,y_predicted)\n",
        "print('accuracy:',acc , 'recall:',recall, 'precision:', precision)"
      ],
      "execution_count": 0,
      "outputs": [
        {
          "output_type": "stream",
          "text": [
            "accuracy: 0.9111111111111111 recall: 0.9086021505376344 precision: 0.9184782608695652\n"
          ],
          "name": "stdout"
        }
      ]
    },
    {
      "cell_type": "code",
      "metadata": {
        "id": "-8ALwwGYAaKe",
        "colab_type": "code",
        "outputId": "dee3d0da-6528-4811-a293-cf4fb3f714c7",
        "colab": {
          "base_uri": "https://localhost:8080/",
          "height": 265
        }
      },
      "source": [
        "# auc yi hesapla,\n",
        "y_predicted_prob=clf.predict_proba(X_test)[:,1]\n",
        "auc=roc_auc_score(y_test,y_predicted_prob)\n",
        "fpr, tpr, _=roc_curve(y_test,y_predicted_prob)\n",
        "plt.plot(fpr,tpr)\n",
        "plt.show()"
      ],
      "execution_count": 0,
      "outputs": [
        {
          "output_type": "display_data",
          "data": {
            "image/png": "[encoded data removed]",
            "text/plain": [
              "<Figure size 432x288 with 1 Axes>"
            ]
          },
          "metadata": {
            "tags": [],
            "needs_background": "light"
          }
        }
      ]
    },
    {
      "cell_type": "code",
      "metadata": {
        "id": "oih09aCbBPq-",
        "colab_type": "code",
        "colab": {}
      },
      "source": [
        "def ReturnImageAndItsLabel(Data,model,width):\n",
        "  NuOfImages=Data.shape[0]\n",
        "  no=np.random.randint(NuOfImages)\n",
        "  plt.imshow(Data[no,:].reshape(width,width),cmap='gray')\n",
        "  plt.title('Prediction ='+str(model.predict(Data[no,None,:])[0]))\n",
        "  plt.show()\n",
        "  #print(Data[no,:].shape)\n",
        "  #print(model.predict(Data[no,None,:]))\n",
        "  \n"
      ],
      "execution_count": 0,
      "outputs": []
    },
    {
      "cell_type": "code",
      "metadata": {
        "id": "FMbmbPXKCdeg",
        "colab_type": "code",
        "outputId": "925f0fc8-6ee1-48a5-d408-1930d899d11b",
        "colab": {
          "base_uri": "https://localhost:8080/",
          "height": 281
        }
      },
      "source": [
        "ReturnImageAndItsLabel(X_test,clf,8)"
      ],
      "execution_count": 0,
      "outputs": [
        {
          "output_type": "display_data",
          "data": {
            "image/png": "[encoded data removed]",
            "text/plain": [
              "<Figure size 432x288 with 1 Axes>"
            ]
          },
          "metadata": {
            "tags": [],
            "needs_background": "light"
          }
        }
      ]
    }
  ]
}