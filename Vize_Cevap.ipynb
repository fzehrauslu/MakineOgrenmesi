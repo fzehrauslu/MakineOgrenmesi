{
  "nbformat": 4,
  "nbformat_minor": 0,
  "metadata": {
    "colab": {
      "name": "Copy of MakineOgrenmesiVize.ipynb",
      "provenance": [],
      "collapsed_sections": [],
      "authorship_tag": "ABX9TyOEyveiOeC8mgveekLgiysg",
      "include_colab_link": true
    },
    "kernelspec": {
      "name": "python3",
      "display_name": "Python 3"
    }
  },
  "cells": [
    {
      "cell_type": "markdown",
      "metadata": {
        "id": "view-in-github",
        "colab_type": "text"
      },
      "source": [
        "<a href=\"https://colab.research.google.com/github/fzehrauslu/MakineOgrenmesi/blob/master/Vize_Cevap.ipynb\" target=\"_parent\"><img src=\"https://colab.research.google.com/assets/colab-badge.svg\" alt=\"Open In Colab\"/></a>"
      ]
    },
    {
      "cell_type": "code",
      "metadata": {
        "id": "jeAz2ol0MJ_3",
        "colab_type": "code",
        "outputId": "0d657b87-bc2c-4eb3-eae0-3d6d647a77fd",
        "colab": {
          "base_uri": "https://localhost:8080/",
          "height": 189
        }
      },
      "source": [
        "from google.colab import drive\n",
        "drive.mount('/content/gdrive')\n",
        "\n",
        "\n",
        "\n",
        "#model_save_name='sim_autoencoder.pth'\n",
        "#path = F\"/content/gdrive/My Drive/Colab Notebooks/{model_save_name}\""
      ],
      "execution_count": 1,
      "outputs": [
        {
          "output_type": "stream",
          "text": [
            "Go to this URL in a browser: https://accounts.google.com/o/oauth2/auth?client_id=947318989803-6bn6qk8qdgf4n4g3pfee6491hc0brc4i.apps.googleusercontent.com&redirect_uri=urn%3aietf%3awg%3aoauth%3a2.0%3aoob&response_type=code&scope=email%20https%3a%2f%2fwww.googleapis.com%2fauth%2fdocs.test%20https%3a%2f%2fwww.googleapis.com%2fauth%2fdrive%20https%3a%2f%2fwww.googleapis.com%2fauth%2fdrive.photos.readonly%20https%3a%2f%2fwww.googleapis.com%2fauth%2fpeopleapi.readonly\n",
            "\n",
            "Enter your authorization code:\n",
            "··········\n",
            "Mounted at /content/gdrive\n"
          ],
          "name": "stdout"
        }
      ]
    },
    {
      "cell_type": "code",
      "metadata": {
        "id": "K1uoXAX7MgZl",
        "colab_type": "code",
        "outputId": "420aa2d7-8d56-4210-a46d-231d71498953",
        "colab": {
          "base_uri": "https://localhost:8080/",
          "height": 102
        }
      },
      "source": [
        "import pandas as pd\n",
        "path= F\"/content/gdrive/My Drive/Colab Notebooks/arrhythmia.data.txt\"\n",
        "data = pd.read_csv(path, sep=',', header=None)\n",
        "data.info()\n"
      ],
      "execution_count": 2,
      "outputs": [
        {
          "output_type": "stream",
          "text": [
            "<class 'pandas.core.frame.DataFrame'>\n",
            "RangeIndex: 452 entries, 0 to 451\n",
            "Columns: 280 entries, 0 to 279\n",
            "dtypes: float64(120), int64(155), object(5)\n",
            "memory usage: 988.9+ KB\n"
          ],
          "name": "stdout"
        }
      ]
    },
    {
      "cell_type": "code",
      "metadata": {
        "id": "azK-gE8ZNRR0",
        "colab_type": "code",
        "outputId": "6b7f839a-7c0c-4310-dfcc-e2aa8ccaa77e",
        "colab": {
          "base_uri": "https://localhost:8080/",
          "height": 306
        }
      },
      "source": [
        "# veri setindeki ilk 10 sutunu secelim ve onlari ismlendirelim\n",
        "data1=data.loc[:,0:9]\n",
        "data1.info()\n",
        "data1.columns = [\"Age\", \"Sex\", \"Height\", \"Weight\",\"QRS duration\",\"P-R interval\",\"Q-T interval\",\"T interval\",\"P interval\",\"QRS\"]#,\"T\",\"P\",\"QRST\",\"J\",\"Heart Rate\"]"
      ],
      "execution_count": 3,
      "outputs": [
        {
          "output_type": "stream",
          "text": [
            "<class 'pandas.core.frame.DataFrame'>\n",
            "RangeIndex: 452 entries, 0 to 451\n",
            "Data columns (total 10 columns):\n",
            " #   Column  Non-Null Count  Dtype\n",
            "---  ------  --------------  -----\n",
            " 0   0       452 non-null    int64\n",
            " 1   1       452 non-null    int64\n",
            " 2   2       452 non-null    int64\n",
            " 3   3       452 non-null    int64\n",
            " 4   4       452 non-null    int64\n",
            " 5   5       452 non-null    int64\n",
            " 6   6       452 non-null    int64\n",
            " 7   7       452 non-null    int64\n",
            " 8   8       452 non-null    int64\n",
            " 9   9       452 non-null    int64\n",
            "dtypes: int64(10)\n",
            "memory usage: 35.4 KB\n"
          ],
          "name": "stdout"
        }
      ]
    },
    {
      "cell_type": "code",
      "metadata": {
        "id": "X_B_BVMrRqVy",
        "colab_type": "code",
        "outputId": "aa4566b7-cdfc-4615-a49b-17dd3cafc5e7",
        "colab": {
          "base_uri": "https://localhost:8080/",
          "height": 204
        }
      },
      "source": [
        "# elde edilen veri setini ilk 5 ornek icin goruntuleyelim\n",
        "data1.head()"
      ],
      "execution_count": 4,
      "outputs": [
        {
          "output_type": "execute_result",
          "data": {
            "text/html": [
              "<div>\n",
              "<style scoped>\n",
              "    .dataframe tbody tr th:only-of-type {\n",
              "        vertical-align: middle;\n",
              "    }\n",
              "\n",
              "    .dataframe tbody tr th {\n",
              "        vertical-align: top;\n",
              "    }\n",
              "\n",
              "    .dataframe thead th {\n",
              "        text-align: right;\n",
              "    }\n",
              "</style>\n",
              "<table border=\"1\" class=\"dataframe\">\n",
              "  <thead>\n",
              "    <tr style=\"text-align: right;\">\n",
              "      <th></th>\n",
              "      <th>Age</th>\n",
              "      <th>Sex</th>\n",
              "      <th>Height</th>\n",
              "      <th>Weight</th>\n",
              "      <th>QRS duration</th>\n",
              "      <th>P-R interval</th>\n",
              "      <th>Q-T interval</th>\n",
              "      <th>T interval</th>\n",
              "      <th>P interval</th>\n",
              "      <th>QRS</th>\n",
              "    </tr>\n",
              "  </thead>\n",
              "  <tbody>\n",
              "    <tr>\n",
              "      <th>0</th>\n",
              "      <td>75</td>\n",
              "      <td>0</td>\n",
              "      <td>190</td>\n",
              "      <td>80</td>\n",
              "      <td>91</td>\n",
              "      <td>193</td>\n",
              "      <td>371</td>\n",
              "      <td>174</td>\n",
              "      <td>121</td>\n",
              "      <td>-16</td>\n",
              "    </tr>\n",
              "    <tr>\n",
              "      <th>1</th>\n",
              "      <td>56</td>\n",
              "      <td>1</td>\n",
              "      <td>165</td>\n",
              "      <td>64</td>\n",
              "      <td>81</td>\n",
              "      <td>174</td>\n",
              "      <td>401</td>\n",
              "      <td>149</td>\n",
              "      <td>39</td>\n",
              "      <td>25</td>\n",
              "    </tr>\n",
              "    <tr>\n",
              "      <th>2</th>\n",
              "      <td>54</td>\n",
              "      <td>0</td>\n",
              "      <td>172</td>\n",
              "      <td>95</td>\n",
              "      <td>138</td>\n",
              "      <td>163</td>\n",
              "      <td>386</td>\n",
              "      <td>185</td>\n",
              "      <td>102</td>\n",
              "      <td>96</td>\n",
              "    </tr>\n",
              "    <tr>\n",
              "      <th>3</th>\n",
              "      <td>55</td>\n",
              "      <td>0</td>\n",
              "      <td>175</td>\n",
              "      <td>94</td>\n",
              "      <td>100</td>\n",
              "      <td>202</td>\n",
              "      <td>380</td>\n",
              "      <td>179</td>\n",
              "      <td>143</td>\n",
              "      <td>28</td>\n",
              "    </tr>\n",
              "    <tr>\n",
              "      <th>4</th>\n",
              "      <td>75</td>\n",
              "      <td>0</td>\n",
              "      <td>190</td>\n",
              "      <td>80</td>\n",
              "      <td>88</td>\n",
              "      <td>181</td>\n",
              "      <td>360</td>\n",
              "      <td>177</td>\n",
              "      <td>103</td>\n",
              "      <td>-16</td>\n",
              "    </tr>\n",
              "  </tbody>\n",
              "</table>\n",
              "</div>"
            ],
            "text/plain": [
              "   Age  Sex  Height  Weight  ...  Q-T interval  T interval  P interval  QRS\n",
              "0   75    0     190      80  ...           371         174         121  -16\n",
              "1   56    1     165      64  ...           401         149          39   25\n",
              "2   54    0     172      95  ...           386         185         102   96\n",
              "3   55    0     175      94  ...           380         179         143   28\n",
              "4   75    0     190      80  ...           360         177         103  -16\n",
              "\n",
              "[5 rows x 10 columns]"
            ]
          },
          "metadata": {
            "tags": []
          },
          "execution_count": 4
        }
      ]
    },
    {
      "cell_type": "code",
      "metadata": {
        "id": "8GZeST9CSUYN",
        "colab_type": "code",
        "outputId": "d53815e8-ee17-45e6-8033-bb8ccbdc4431",
        "colab": {
          "base_uri": "https://localhost:8080/",
          "height": 221
        }
      },
      "source": [
        "import numpy as np\n",
        "# sinif degerlerini yazdiralim\n",
        "Classes=data.loc[:,279]\n",
        "print(Classes)\n",
        "\n",
        "# 02 ile kodlu sinifa ve 10 ile kodlu sinifa ait hastalari tespit edelim ve onlari uygun siniflarla eslestirelim\n",
        "Class0_indices=np.where(Classes==2)[0]\n",
        "Class1_indices=np.where(Classes==10)[0]"
      ],
      "execution_count": 5,
      "outputs": [
        {
          "output_type": "stream",
          "text": [
            "0       8\n",
            "1       6\n",
            "2      10\n",
            "3       1\n",
            "4       7\n",
            "       ..\n",
            "447     1\n",
            "448    10\n",
            "449     2\n",
            "450     1\n",
            "451     1\n",
            "Name: 279, Length: 452, dtype: int64\n"
          ],
          "name": "stdout"
        }
      ]
    },
    {
      "cell_type": "code",
      "metadata": {
        "id": "jw8jRiPwZBQv",
        "colab_type": "code",
        "colab": {}
      },
      "source": [
        "# Bu hasta indislerini tek vektor icinde toplayalim. \n",
        "SelectedPatientsIndices=np.concatenate((Class0_indices,Class1_indices),0)"
      ],
      "execution_count": 0,
      "outputs": []
    },
    {
      "cell_type": "code",
      "metadata": {
        "id": "5YKc2nWITboe",
        "colab_type": "code",
        "colab": {}
      },
      "source": [
        "# Hedef sinif degerlerini olustur\n",
        "y=np.concatenate((np.zeros(np.shape(Class0_indices)),np.ones(np.shape(Class1_indices))),0)\n",
        "\n",
        "#Ilgilendigimiz hastalari  veri setimizi olusturmak icin secelim. \n",
        "X = data1.loc[SelectedPatientsIndices,:]\n",
        "## normalise the dataset\n",
        "X=X.to_numpy()\n",
        "X_nanLocations= np.unique(np.where(np.isfinite(X))[0])\n",
        "\n",
        "X=X[X_nanLocations]\n",
        "X=np.float64(X)\n",
        "for i in range(X.shape[1]):\n",
        "  X[:,i]-=np.mean(X[:,i])\n",
        "  X[:,i]=X[:,i]/(np.std(X[:,i])+0.0000001)\n",
        "\n",
        "y=y[X_nanLocations]\n",
        "from sklearn.model_selection import train_test_split\n",
        "# Veri setini % 30 test ve %70 training olmak üzere iki kümeye (eğitim ve test kümesi) ayırdik\n",
        "X_train, X_test, y_train, y_test = train_test_split(X, y, test_size = .3, random_state=25)"
      ],
      "execution_count": 0,
      "outputs": []
    },
    {
      "cell_type": "code",
      "metadata": {
        "id": "Po19ECjPTycm",
        "colab_type": "code",
        "outputId": "4becd867-5b5a-4285-dff8-f322eaebe343",
        "colab": {
          "base_uri": "https://localhost:8080/",
          "height": 34
        }
      },
      "source": [
        "# Logistic Regression modelimizi egitelim\n",
        "from sklearn.linear_model import LogisticRegression\n",
        "from sklearn.metrics import confusion_matrix,accuracy_score\n",
        "LogReg = LogisticRegression()\n",
        "LogReg.fit(X_train, y_train)\n",
        "y_pred = LogReg.predict(X_test)\n",
        "print('Logistic Regression icin accuracy',accuracy_score(y_test, y_pred))"
      ],
      "execution_count": 16,
      "outputs": [
        {
          "output_type": "stream",
          "text": [
            "Logistic Regression icin accuracy 0.6896551724137931\n"
          ],
          "name": "stdout"
        }
      ]
    },
    {
      "cell_type": "code",
      "metadata": {
        "id": "BJcfTedgmHnO",
        "colab_type": "code",
        "colab": {
          "base_uri": "https://localhost:8080/",
          "height": 374
        },
        "outputId": "d339649a-991d-4c40-b7b4-54ba42f20aef"
      },
      "source": [
        "# SVM modellerini egit\n",
        "# lineer kernel, RBF ve Polynomial\n",
        "#RBF kernel icin gamma degerlerini = 0.1, 0.4 ve 0.7 kullanınız. \n",
        "#Polynomial icin degree degerlerini = 1, 3 ve 6 degerleri icin deneyiniz.\n",
        "from sklearn import svm, datasets\n",
        "gamma='auto'\n",
        "from sklearn import svm, datasets\n",
        "for kernel in ['linear','rbf','poly']:\n",
        "  for C in [0.0001, 0.4, 10]:\n",
        "    if kernel=='rbf':\n",
        "      for gamma in [0.1, 0.4, 0.7]:\n",
        "        model=svm.SVC(kernel=kernel, gamma=gamma, C=C)\n",
        "        model.fit(X_train, y_train)\n",
        "        print('C:',C,',' , 'kernel:', kernel,',' ,'gamma:', gamma, ',' ,'accuracy:', model.score(X_test,y_test))\n",
        "        \n",
        "    elif kernel=='poly':\n",
        "      gamma='auto'\n",
        "      for degree in [1,3,6]:\n",
        "        model=svm.SVC(kernel=kernel, degree=degree, gamma=gamma, C=C)\n",
        "        model.fit(X_train, y_train)\n",
        "        print('C:',C, ',' ,'kernel:', kernel,',' ,'degree:', degree, ',' ,'accuracy:', model.score(X_test,y_test))\n",
        "    else:\n",
        "      model=svm.SVC(kernel=kernel, gamma=gamma, C=C)\n",
        "      model.fit(X_train, y_train)\n",
        "      print('C:',C, ',' ,'kernel:', kernel,',','accuracy:', model.score(X_test,y_test))\n",
        "\n"
      ],
      "execution_count": 14,
      "outputs": [
        {
          "output_type": "stream",
          "text": [
            "C: 0.0001 , kernel: linear , accuracy: 0.3448275862068966\n",
            "C: 0.4 , kernel: linear , accuracy: 0.7241379310344828\n",
            "C: 10 , kernel: linear , accuracy: 0.6551724137931034\n",
            "C: 0.0001 , kernel: rbf , gamma: 0.1 , accuracy: 0.3448275862068966\n",
            "C: 0.0001 , kernel: rbf , gamma: 0.4 , accuracy: 0.3448275862068966\n",
            "C: 0.0001 , kernel: rbf , gamma: 0.7 , accuracy: 0.3448275862068966\n",
            "C: 0.4 , kernel: rbf , gamma: 0.1 , accuracy: 0.5862068965517241\n",
            "C: 0.4 , kernel: rbf , gamma: 0.4 , accuracy: 0.3793103448275862\n",
            "C: 0.4 , kernel: rbf , gamma: 0.7 , accuracy: 0.3448275862068966\n",
            "C: 10 , kernel: rbf , gamma: 0.1 , accuracy: 0.5172413793103449\n",
            "C: 10 , kernel: rbf , gamma: 0.4 , accuracy: 0.4827586206896552\n",
            "C: 10 , kernel: rbf , gamma: 0.7 , accuracy: 0.4827586206896552\n",
            "C: 0.0001 , kernel: poly , degree: 1 , accuracy: 0.3448275862068966\n",
            "C: 0.0001 , kernel: poly , degree: 3 , accuracy: 0.3448275862068966\n",
            "C: 0.0001 , kernel: poly , degree: 6 , accuracy: 0.3448275862068966\n",
            "C: 0.4 , kernel: poly , degree: 1 , accuracy: 0.6551724137931034\n",
            "C: 0.4 , kernel: poly , degree: 3 , accuracy: 0.41379310344827586\n",
            "C: 0.4 , kernel: poly , degree: 6 , accuracy: 0.41379310344827586\n",
            "C: 10 , kernel: poly , degree: 1 , accuracy: 0.6551724137931034\n",
            "C: 10 , kernel: poly , degree: 3 , accuracy: 0.5172413793103449\n",
            "C: 10 , kernel: poly , degree: 6 , accuracy: 0.5517241379310345\n"
          ],
          "name": "stdout"
        }
      ]
    },
    {
      "cell_type": "markdown",
      "metadata": {
        "id": "gzsnklkTprA-",
        "colab_type": "text"
      },
      "source": [
        "En yuksek accuracy, 0.7241379310344828 ile lineer SVM modeline ait (C=0.4). Ikinci yuksek deger 0.6896551724137931 ile logistik regresyon modeline ait. \n"
      ]
    }
  ]
}